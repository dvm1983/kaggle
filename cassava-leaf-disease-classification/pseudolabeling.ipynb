{
 "cells": [
  {
   "cell_type": "code",
   "execution_count": 1,
   "metadata": {},
   "outputs": [],
   "source": [
    "import cv2\n",
    "import torch\n",
    "import torch.nn as nn\n",
    "from torch.utils.data import Dataset, DataLoader\n",
    "from torch.optim import Adam, SGD\n",
    "from torch.optim.lr_scheduler import CosineAnnealingWarmRestarts\n",
    "import albumentations as albu\n",
    "import pandas as pd\n",
    "import numpy as np\n",
    "import os\n",
    "\n",
    "import matplotlib.pyplot as plt\n",
    "\n",
    "from sklearn.model_selection import StratifiedKFold\n",
    "\n",
    "from utils.trainer import NNTrainer\n",
    "from utils.data import MyDataset, get_train_transforms, get_valid_transforms\n",
    "\n",
    "import efficientnet_pytorch\n",
    "from efficientnet_pytorch import EfficientNet\n",
    "from torchvision import models\n",
    "\n",
    "from utils.models import EffNetMSD"
   ]
  },
  {
   "cell_type": "code",
   "execution_count": 2,
   "metadata": {},
   "outputs": [],
   "source": [
    "data_path = './test/'\n",
    "models_path = './models_pl/'\n",
    "\n",
    "models = [['efficientnet-b5', f'{models_path}/eff5_1/'],\n",
    "          ['efficientnet-b4', f'{models_path}/eff4_1/'],\n",
    "          ['efficientnet-b3', f'{models_path}/eff3_4/']]"
   ]
  },
  {
   "cell_type": "code",
   "execution_count": 3,
   "metadata": {},
   "outputs": [],
   "source": [
    "cfg = {'advprop' : False,\n",
    "       'img_size' : 512,\n",
    "       'batch_size' : 32,\n",
    "       'n_dropouts' : 30,\n",
    "       'tta' : 10,\n",
    "       'random_state' : 123,\n",
    "       'device' : 'cuda',\n",
    "       \n",
    "}\n",
    "cfg['augmentations'] = get_train_transforms"
   ]
  },
  {
   "cell_type": "code",
   "execution_count": null,
   "metadata": {},
   "outputs": [],
   "source": [
    "sub = "
   ]
  },
  {
   "cell_type": "code",
   "execution_count": 4,
   "metadata": {},
   "outputs": [],
   "source": [
    "dataset = MyDataset(path_extra=data_path, extra_df=sub, img_size=cfg['img_size'],\\\n",
    "                              augmentations=cfg['augmentations'](cfg['img_size']),\\\n",
    "                              advprop=cfg['advprop'], two_samples=False)\n",
    "\n",
    "dataloader = DataLoader(dataset, batch_size=cfg['batch_size'], drop_last=False, shuffle=False)"
   ]
  },
  {
   "cell_type": "code",
   "execution_count": 5,
   "metadata": {},
   "outputs": [
    {
     "name": "stdout",
     "output_type": "stream",
     "text": [
      "Loaded pretrained weights for efficientnet-b3\n"
     ]
    },
    {
     "data": {
      "application/vnd.jupyter.widget-view+json": {
       "model_id": "584928a20e3f4124914aeb541cfcaaf9",
       "version_major": 2,
       "version_minor": 0
      },
      "text/plain": [
       "HBox(children=(FloatProgress(value=0.0, max=455.0), HTML(value='')))"
      ]
     },
     "metadata": {},
     "output_type": "display_data"
    },
    {
     "name": "stdout",
     "output_type": "stream",
     "text": [
      "\n"
     ]
    },
    {
     "data": {
      "application/vnd.jupyter.widget-view+json": {
       "model_id": "0c5f22741f0b4a68b2ec14999595e0c4",
       "version_major": 2,
       "version_minor": 0
      },
      "text/plain": [
       "HBox(children=(FloatProgress(value=0.0, max=455.0), HTML(value='')))"
      ]
     },
     "metadata": {},
     "output_type": "display_data"
    },
    {
     "name": "stdout",
     "output_type": "stream",
     "text": [
      "\n"
     ]
    }
   ],
   "source": [
    "preds = []\n",
    "pred_probas = None\n",
    "for model_name, path in models:\n",
    "    model = EffNetMSD(net=model_name, advprop=cfg['advprop'], n_dropouts=cfg['n_dropouts'])\n",
    "    model_weights_files = [f'{path}/{x}' for x in os.listdir(path)]\n",
    "    for model_weights_file in model_weights_files:\n",
    "        model.load_state_dict(torch.load(model_weights_file, map_location=cfg['device']))\n",
    "        trainer = NNTrainer(model, device=cfg['device'], label_names=[0, 1, 2, 3, 4],\\\n",
    "                            model_name=model_name)\n",
    "        pred, pred_proba = trainer.test(dataloader, tta=cfg['tta'],\\\n",
    "                                        show_results=True, verbose=True, log=False)\n",
    "        if pred_probas is None:\n",
    "            pred_probas = pred_proba\n",
    "        else:\n",
    "            pred_probas += pred_proba\n",
    "        preds.append(pred)\n",
    "        \n",
    "        del trainer\n",
    "        torch.cuda.empty_cache()\n",
    "    del model\n",
    "    torch.cuda.empty_cache()\n",
    "        \n",
    "pred_probas /= len(preds)"
   ]
  },
  {
   "cell_type": "code",
   "execution_count": 6,
   "metadata": {},
   "outputs": [
    {
     "data": {
      "text/plain": [
       "array([1., 1., 1., ..., 1., 1., 1.], dtype=float32)"
      ]
     },
     "execution_count": 6,
     "metadata": {},
     "output_type": "execute_result"
    }
   ],
   "source": [
    "np.sum(pred_probas, axis=1)"
   ]
  },
  {
   "cell_type": "code",
   "execution_count": 21,
   "metadata": {},
   "outputs": [
    {
     "data": {
      "text/plain": [
       "0"
      ]
     },
     "execution_count": 21,
     "metadata": {},
     "output_type": "execute_result"
    }
   ],
   "source": [
    "sum([len(z) for z in [[1 for y in x if y==np.nan] for x in pred_probas]])"
   ]
  },
  {
   "cell_type": "code",
   "execution_count": 8,
   "metadata": {},
   "outputs": [],
   "source": [
    "labels = np.median(np.hstack(preds), axis=1).astype(int)"
   ]
  },
  {
   "cell_type": "code",
   "execution_count": 9,
   "metadata": {},
   "outputs": [],
   "source": [
    "image_ids = [x.split('/')[-1] for x in dataloader.dataset.data]"
   ]
  },
  {
   "cell_type": "code",
   "execution_count": 54,
   "metadata": {},
   "outputs": [],
   "source": [
    "labeled_df = pd.DataFrame(image_ids, columns=['image_id'])\n",
    "labeled_df['median_label'] = labels"
   ]
  },
  {
   "cell_type": "code",
   "execution_count": 55,
   "metadata": {},
   "outputs": [],
   "source": [
    "labeled_df['median_proportion'] = (np.hstack(preds) == labels.reshape(-1, 1)).astype(int).\\\n",
    "                                   sum(axis=1).astype(float)/len(preds)"
   ]
  },
  {
   "cell_type": "code",
   "execution_count": 56,
   "metadata": {},
   "outputs": [],
   "source": [
    "for i in range(5):\n",
    "    labeled_df[f'class{i}'] = pred_probas[:, i]"
   ]
  },
  {
   "cell_type": "code",
   "execution_count": 57,
   "metadata": {},
   "outputs": [],
   "source": [
    "labeled_df['max_proba'] = pred_probas.max(axis=1)"
   ]
  },
  {
   "cell_type": "code",
   "execution_count": 58,
   "metadata": {},
   "outputs": [],
   "source": [
    "labeled_df['label'] = pred_probas.argmax(axis=1)"
   ]
  },
  {
   "cell_type": "code",
   "execution_count": 59,
   "metadata": {},
   "outputs": [
    {
     "data": {
      "text/plain": [
       "(16369, 10)"
      ]
     },
     "execution_count": 59,
     "metadata": {},
     "output_type": "execute_result"
    }
   ],
   "source": [
    "labeled_df.shape"
   ]
  },
  {
   "cell_type": "code",
   "execution_count": 61,
   "metadata": {},
   "outputs": [
    {
     "data": {
      "text/plain": [
       "(1329, 10)"
      ]
     },
     "execution_count": 61,
     "metadata": {},
     "output_type": "execute_result"
    }
   ],
   "source": [
    "labeled_df[labeled_df['label'] != labeled_df['median_label']].shape"
   ]
  },
  {
   "cell_type": "code",
   "execution_count": 48,
   "metadata": {},
   "outputs": [
    {
     "data": {
      "text/plain": [
       "(1893, 9)"
      ]
     },
     "execution_count": 48,
     "metadata": {},
     "output_type": "execute_result"
    }
   ],
   "source": [
    "labeled_df[labeled_df['max_proba'] < 0.75].shape"
   ]
  },
  {
   "cell_type": "code",
   "execution_count": 51,
   "metadata": {},
   "outputs": [],
   "source": [
    "labeled_df.to_csv('pl_df.csv', index=False)"
   ]
  },
  {
   "cell_type": "code",
   "execution_count": 52,
   "metadata": {},
   "outputs": [
    {
     "data": {
      "text/plain": [
       "<matplotlib.axes._subplots.AxesSubplot at 0x2e0e222afc8>"
      ]
     },
     "execution_count": 52,
     "metadata": {},
     "output_type": "execute_result"
    },
    {
     "data": {
      "image/png": "[encoded data removed]",
      "text/plain": [
       "<Figure size 432x288 with 1 Axes>"
      ]
     },
     "metadata": {
      "needs_background": "light"
     },
     "output_type": "display_data"
    }
   ],
   "source": [
    "labeled_df.label.hist()"
   ]
  }
 ],
 "metadata": {
  "kernelspec": {
   "display_name": "Python 3",
   "language": "python",
   "name": "python3"
  },
  "language_info": {
   "codemirror_mode": {
    "name": "ipython",
    "version": 3
   },
   "file_extension": ".py",
   "mimetype": "text/x-python",
   "name": "python",
   "nbconvert_exporter": "python",
   "pygments_lexer": "ipython3",
   "version": "3.7.6"
  }
 },
 "nbformat": 4,
 "nbformat_minor": 4
}
