{
 "cells": [
  {
   "cell_type": "code",
   "execution_count": null,
   "metadata": {},
   "outputs": [],
   "source": [
    "import cv2\n",
    "import torch\n",
    "import torch.nn as nn\n",
    "from torch.utils.data import Dataset, DataLoader\n",
    "import albumentations as albu\n",
    "import pandas as pd\n",
    "import numpy as np\n",
    "import os\n",
    "import matplotlib.pyplot as plt\n",
    "import random\n",
    "from scipy.stats import mode\n",
    "\n",
    "import efficientnet_pytorch\n",
    "from efficientnet_pytorch import EfficientNet\n",
    "from torchvision import models\n",
    "\n",
    "from utils.trainer import NNTrainer\n",
    "from utils.data import MyDataset, get_train_transforms, get_valid_transforms\n",
    "from utils.models import EffNetMSD"
   ]
  },
  {
   "cell_type": "code",
   "execution_count": null,
   "metadata": {},
   "outputs": [],
   "source": [
    "data_path = './add_data/train/cbb/'\n",
    "models_path = './models_pl/'\n",
    "moda = True\n",
    "seed = 0\n",
    "\n",
    "models = [#['efficientnet-b5', f'{models_path}/eff5_2/'],\n",
    "          #['efficientnet-b4', f'{models_path}/eff4_1/'],\n",
    "          ['efficientnet-b3', f'{models_path}/eff3_6/']]"
   ]
  },
  {
   "cell_type": "code",
   "execution_count": null,
   "metadata": {},
   "outputs": [],
   "source": [
    "cfg = {'advprop' : False,\n",
    "       'img_size' : 512,\n",
    "       'batch_size' : 4,\n",
    "       'n_dropouts' : 30,\n",
    "       'tta' : 3,\n",
    "       'random_state' : 123,\n",
    "       'device' : 'cuda',\n",
    "       \n",
    "}\n",
    "cfg['augmentations'] = get_train_transforms"
   ]
  },
  {
   "cell_type": "code",
   "execution_count": null,
   "metadata": {},
   "outputs": [],
   "source": [
    "random.seed(seed)"
   ]
  },
  {
   "cell_type": "code",
   "execution_count": null,
   "metadata": {},
   "outputs": [],
   "source": [
    "sub = pd.DataFrame(os.listdir(data_path), columns=['image_id'])"
   ]
  },
  {
   "cell_type": "code",
   "execution_count": null,
   "metadata": {},
   "outputs": [],
   "source": [
    "dataset = MyDataset(path_extra=data_path, extra_df=sub, img_size=cfg['img_size'],\\\n",
    "                              augmentations=cfg['augmentations'](cfg['img_size']),\\\n",
    "                              advprop=cfg['advprop'], tta=cfg['tta'], two_samples=False)\n",
    "\n",
    "dataloader = DataLoader(dataset, batch_size=cfg['batch_size'], drop_last=False, shuffle=False)"
   ]
  },
  {
   "cell_type": "code",
   "execution_count": null,
   "metadata": {},
   "outputs": [],
   "source": [
    "preds = []\n",
    "pred_probas = None\n",
    "for model_name, path in models:\n",
    "    model = EffNetMSD(net=model_name, advprop=cfg['advprop'], n_dropouts=cfg['n_dropouts'])\n",
    "    model_weights_files = [f'{path}/{x}' for x in os.listdir(path)]\n",
    "    for model_weights_file in model_weights_files:\n",
    "        model.load_state_dict(torch.load(model_weights_file, map_location=cfg['device']))\n",
    "        trainer = NNTrainer(model, device=cfg['device'], label_names=[0, 1, 2, 3, 4],\\\n",
    "                            model_name=model_name)\n",
    "        pred, pred_proba = trainer.test(dataloader, tta_moda=True,\\\n",
    "                                        show_results=True, verbose=True, log=False)\n",
    "        if pred_probas is None:\n",
    "            pred_probas = pred_proba\n",
    "        else:\n",
    "            pred_probas += pred_proba\n",
    "        preds.append(pred)\n",
    "        \n",
    "        del trainer\n",
    "        torch.cuda.empty_cache()\n",
    "        \n",
    "    del model\n",
    "    torch.cuda.empty_cache()\n",
    "        \n",
    "pred_probas /= len(preds)"
   ]
  },
  {
   "cell_type": "code",
   "execution_count": null,
   "metadata": {},
   "outputs": [],
   "source": [
    "if moda:\n",
    "    sub['label'] = mode(np.hstack(preds), axis=1).mode.astype(int)\n",
    "else:\n",
    "    sub['label'] = pred_probas.argmax(axis=1)"
   ]
  },
  {
   "cell_type": "code",
   "execution_count": null,
   "metadata": {},
   "outputs": [],
   "source": [
    "sub.to_csv('submission.csv', index=False)"
   ]
  }
 ],
 "metadata": {
  "kernelspec": {
   "display_name": "Python 3",
   "language": "python",
   "name": "python3"
  },
  "language_info": {
   "codemirror_mode": {
    "name": "ipython",
    "version": 3
   },
   "file_extension": ".py",
   "mimetype": "text/x-python",
   "name": "python",
   "nbconvert_exporter": "python",
   "pygments_lexer": "ipython3",
   "version": "3.7.6"
  }
 },
 "nbformat": 4,
 "nbformat_minor": 4
}
