{
 "cells": [
  {
   "cell_type": "code",
   "execution_count": 40,
   "metadata": {},
   "outputs": [],
   "source": [
    "import numpy as np\n",
    "import imagehash\n",
    "import cv2\n",
    "import os\n",
    "import shutil\n",
    "from PIL import Image\n",
    "from tqdm import tqdm, tqdm_notebook\n",
    "\n",
    "import matplotlib.pyplot as plt "
   ]
  },
  {
   "cell_type": "code",
   "execution_count": 2,
   "metadata": {},
   "outputs": [],
   "source": [
    "hash_funcs = [\n",
    "        imagehash.average_hash,\n",
    "        imagehash.phash,\n",
    "        imagehash.dhash,\n",
    "        imagehash.whash,\n",
    "    ]"
   ]
  },
  {
   "cell_type": "code",
   "execution_count": 16,
   "metadata": {},
   "outputs": [],
   "source": [
    "def is_eq(a, b, th=0.9):\n",
    "    return float((a == b).astype(int).sum())/len(a) >= th\n",
    "\n",
    "\n",
    "def make_hashes(src, funcs=hash_funcs):\n",
    "    src_hashes = []\n",
    "    print('make hashes')\n",
    "    for image_file in tqdm_notebook(src):\n",
    "        image = cv2.imread(image_file)\n",
    "        image = Image.fromarray(image)\n",
    "        src_hashes.append(np.array([f(image).hash for f in funcs]).reshape(256))\n",
    "    return src_hashes\n",
    "\n",
    "\n",
    "def make_files_lst(src):\n",
    "    return [f'{src}/{file}' for file in os.listdir(src)]\n",
    "\n",
    "\n",
    "def find_dup(src,  src_hashes=None, src_images=None, dst=None, dst_hashes=None, dst_images=None, funcs=hash_funcs):\n",
    "    if src_images is None: \n",
    "        src_images = make_files_lst(src)\n",
    "    if src_hashes is None:\n",
    "        src_hashes = make_hashes(src_images, hash_funcs)\n",
    "    dup_files_src = []\n",
    "    dup_files_dst = []\n",
    "    if dst is None:\n",
    "        print('search for duplicates')\n",
    "        for i in tqdm_notebook(range(len(src_hashes))):\n",
    "            for j in range(i + 1, len(src_hashes), 1):\n",
    "                if is_eq(src_hashes[i], src_hashes[j]):\n",
    "                    dup_files_src.append(src_images[i])\n",
    "                    dup_files_dst.append(src_images[j])        \n",
    "    else:\n",
    "        if dst_images is None:\n",
    "            dst_images = make_files_lst(dst)\n",
    "        if dst_hashes is None:\n",
    "            dst_hashes = make_hashes(dst_images, hash_funcs)\n",
    "        print('search for duplicates')\n",
    "        for i, s in tqdm_notebook(enumerate(src_hashes)):\n",
    "            for j, d in enumerate(dst_hashes):\n",
    "                if is_eq(s, d):\n",
    "                    dup_files_src.append(src_images[i])\n",
    "                    dup_files_dst.append(dst_images[j])\n",
    "\n",
    "    return dup_files_src, dup_files_dst"
   ]
  },
  {
   "cell_type": "code",
   "execution_count": 4,
   "metadata": {},
   "outputs": [],
   "source": [
    "path = './'\n",
    "path2 = './add_data'\n",
    "path_train = f'{path}/train_images/'\n",
    "path_dct = {0 : f'{path2}/train/cbb/',\n",
    "            1 : f'{path2}/train/cbsd/',\n",
    "            2 : f'{path2}/train/cgm/',\n",
    "            3 : f'{path2}/train/cmd/',\n",
    "            4 : f'{path2}/train/healthy/'}\n",
    "path_extra = f'{path2}/extraimages/'"
   ]
  },
  {
   "cell_type": "code",
   "execution_count": 14,
   "metadata": {},
   "outputs": [],
   "source": [
    "train_files = make_files_lst(path_train)"
   ]
  },
  {
   "cell_type": "code",
   "execution_count": 5,
   "metadata": {},
   "outputs": [
    {
     "name": "stderr",
     "output_type": "stream",
     "text": [
      "  0%|                                                                                | 3/21397 [00:00<13:16, 26.86it/s]"
     ]
    },
    {
     "name": "stdout",
     "output_type": "stream",
     "text": [
      "make hashes\n"
     ]
    },
    {
     "name": "stderr",
     "output_type": "stream",
     "text": [
      "100%|████████████████████████████████████████████████████████████████████████████| 21397/21397 [08:39<00:00, 41.17it/s]\n"
     ]
    }
   ],
   "source": [
    "train_hashes = make_hashes(train_files)"
   ]
  }
 ],
 "metadata": {
  "kernelspec": {
   "display_name": "Python 3",
   "language": "python",
   "name": "python3"
  },
  "language_info": {
   "codemirror_mode": {
    "name": "ipython",
    "version": 3
   },
   "file_extension": ".py",
   "mimetype": "text/x-python",
   "name": "python",
   "nbconvert_exporter": "python",
   "pygments_lexer": "ipython3",
   "version": "3.7.6"
  }
 },
 "nbformat": 4,
 "nbformat_minor": 4
}
